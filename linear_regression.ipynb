{
  "nbformat": 4,
  "nbformat_minor": 0,
  "metadata": {
    "colab": {
      "provenance": []
    },
    "kernelspec": {
      "name": "python3",
      "display_name": "Python 3"
    },
    "language_info": {
      "name": "python"
    }
  },
  "cells": [
    {
      "cell_type": "code",
      "execution_count": null,
      "metadata": {
        "colab": {
          "base_uri": "https://localhost:8080/",
          "height": 331
        },
        "id": "5KLIwscBjPQ2",
        "outputId": "6c3e059e-c414-4f51-8895-5df226b42428"
      },
      "outputs": [
        {
          "output_type": "stream",
          "name": "stdout",
          "text": [
            "Estimated coefficients:\n",
            "b_0 = 2.40120829599958 \t\t\n",
            "b_1 = 0.9979312707531751\n"
          ]
        },
        {
          "output_type": "display_data",
          "data": {
            "text/plain": [
              "<Figure size 432x288 with 1 Axes>"
            ],
            "image/png": "[encoded data removed]"
          },
          "metadata": {
            "needs_background": "light"
          }
        }
      ],
      "source": [
        "import numpy as np\n",
        "import matplotlib.pyplot as plt\n",
        "\n",
        "def estimate_coef(x, y):\n",
        "\tn = np.size(x)\n",
        "\n",
        "\tm_x = np.mean(x)\n",
        "\tm_y = np.mean(y)\n",
        "\n",
        "\tSS_xy = np.sum(y*x) - n*m_y*m_x\n",
        "\tSS_xx = np.sum(x*x) - n*m_x*m_x\n",
        "\n",
        "\tb_1 = SS_xy / SS_xx\n",
        "\tb_0 = m_y - b_1*m_x\n",
        "\n",
        "\treturn (b_0, b_1)\n",
        "\n",
        "def plot_regression_line(x, y, b):\n",
        "\tplt.scatter(x, y, color = \"blue\",\n",
        "\t\t\tmarker = \"o\", s = 30)\n",
        "\n",
        "\ty_pred = b[0] + b[1]*x\n",
        "\n",
        "\tplt.plot(x, y_pred, color = \"red\")\n",
        "\n",
        "\tplt.xlabel('x')\n",
        "\tplt.ylabel('y')\n",
        "\n",
        "\tplt.show()\n",
        "\n",
        "def main():\n",
        "\tx = np.array([0, 1, 2, 3, 4, 5, 6, 7, 8, 9, 2.5, 3.7, 1.2, 1.6, 3.1])\n",
        "\ty = np.array([1, 3, 2, 5, 7, 8, 8, 9, 10, 12 ,5, 7, 10, 2, 4])\n",
        "\n",
        "\tb = estimate_coef(x, y)\n",
        "\tprint(\"Estimated coefficients:\\nb_0 = {} \\\n",
        "\t\t\\nb_1 = {}\".format(b[0], b[1]))\n",
        "\n",
        "\tplot_regression_line(x, y, b)\n",
        "\n",
        "if __name__ == \"__main__\":\n",
        "\tmain()\n"
      ]
    }
  ]
}