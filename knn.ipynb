{
  "nbformat": 4,
  "nbformat_minor": 0,
  "metadata": {
    "colab": {
      "provenance": []
    },
    "kernelspec": {
      "name": "python3",
      "display_name": "Python 3"
    }
  },
  "cells": [
    {
      "cell_type": "code",
      "source": [
        "import matplotlib.pyplot as plt\n",
        "from sklearn.neighbors import KNeighborsClassifier\n",
        "from sklearn.model_selection import train_test_split\n",
        "\n",
        "persons=[\"Mahesh\",\"Tanmay\",\"Kaustubh\",\"Roshan\",\"Suraj\",\"Swapnil\",\"Krunal\",\"Piyush\",\"Jivesh\",\"Mrunal\"]\n",
        "disease=[\"Penumonia\",\"Typhoid\",\"Penumonia\",\"Penumonia\",\"Penumonia\",\"Healthy\",\"Healthy\",\"Typhoid\",\"Healthy\",\"Typhoid\"]\n",
        "result=[\"Yes\",\"Yes\",\"Yes\",\"Yes\",\"Yes\",\"No\",\"No\",\"Yes\",\"No\",\"Yes\"]"
      ],
      "metadata": {
        "id": "6mpDbGjpUGAV"
      },
      "execution_count": null,
      "outputs": []
    },
    {
      "cell_type": "code",
      "source": [
        "from sklearn.preprocessing import LabelEncoder\n",
        "le=LabelEncoder()\n",
        "label1=le.fit_transform(persons)\n",
        "print(\"Label 1 :\")\n",
        "print(label1)"
      ],
      "metadata": {
        "colab": {
          "base_uri": "https://localhost:8080/"
        },
        "id": "-XK4Du8yUR3o",
        "outputId": "b9d76ba2-ca59-4814-c5eb-feccbd47f1eb"
      },
      "execution_count": null,
      "outputs": [
        {
          "output_type": "stream",
          "name": "stdout",
          "text": [
            "Label 1 :\n",
            "[3 9 1 6 7 8 2 5 0 4]\n"
          ]
        }
      ]
    },
    {
      "cell_type": "code",
      "source": [
        "from sklearn.preprocessing import LabelEncoder\n",
        "le=LabelEncoder()\n",
        "label2=le.fit_transform(disease)\n",
        "print(\"Label 2 :\")\n",
        "print(label2)"
      ],
      "metadata": {
        "colab": {
          "base_uri": "https://localhost:8080/"
        },
        "id": "YOrk09pEUWWB",
        "outputId": "3791c524-8748-470b-80ae-924a710d74a5"
      },
      "execution_count": null,
      "outputs": [
        {
          "output_type": "stream",
          "name": "stdout",
          "text": [
            "Label 2 :\n",
            "[1 2 1 1 1 0 0 2 0 2]\n"
          ]
        }
      ]
    },
    {
      "cell_type": "code",
      "source": [
        "from sklearn.preprocessing import LabelEncoder\n",
        "le=LabelEncoder()\n",
        "label3=le.fit_transform(result)\n",
        "print(\"Label 3 :\")\n",
        "print(label3)"
      ],
      "metadata": {
        "colab": {
          "base_uri": "https://localhost:8080/"
        },
        "id": "9hqkefWeUgma",
        "outputId": "58a6cb01-2dab-459e-a397-8c5443352cfc"
      },
      "execution_count": null,
      "outputs": [
        {
          "output_type": "stream",
          "name": "stdout",
          "text": [
            "Label 3 :\n",
            "[1 1 1 1 1 0 0 1 0 1]\n"
          ]
        }
      ]
    },
    {
      "cell_type": "code",
      "source": [
        "data = list(zip(label1,label2))\n",
        "knn = KNeighborsClassifier(n_neighbors=2)\n",
        "knn.fit(data,label3)"
      ],
      "metadata": {
        "colab": {
          "base_uri": "https://localhost:8080/"
        },
        "id": "PUiFULciUz_c",
        "outputId": "78d1e535-2e72-4e86-e375-4c4657da7bad"
      },
      "execution_count": null,
      "outputs": [
        {
          "output_type": "execute_result",
          "data": {
            "text/plain": [
              "KNeighborsClassifier(n_neighbors=2)"
            ]
          },
          "metadata": {},
          "execution_count": 7
        }
      ]
    },
    {
      "cell_type": "code",
      "source": [
        "test_new_x=8\n",
        "test_new_y=0\n",
        "new_point = [(test_new_x,test_new_y)]\n",
        "prediction = (knn.predict(new_point))\n",
        "print(\"Prediction that a person is diseased or not : \")\n",
        "print(prediction)"
      ],
      "metadata": {
        "colab": {
          "base_uri": "https://localhost:8080/"
        },
        "id": "_UjpQur4U2R6",
        "outputId": "a7e397cf-c6b4-4650-c609-6e94a7a4ae56"
      },
      "execution_count": null,
      "outputs": [
        {
          "output_type": "stream",
          "name": "stdout",
          "text": [
            "Prediction that a person is diseased or not : \n",
            "[0]\n"
          ]
        }
      ]
    },
    {
      "cell_type": "code",
      "source": [
        "plt.scatter(test_new_x,test_new_y,c=prediction)\n",
        "plt.show()"
      ],
      "metadata": {
        "colab": {
          "base_uri": "https://localhost:8080/",
          "height": 265
        },
        "id": "VvxBQ51tU7Nm",
        "outputId": "4ca75992-5f38-474d-ad6a-e9ace56d0497"
      },
      "execution_count": null,
      "outputs": [
        {
          "output_type": "display_data",
          "data": {
            "text/plain": [
              "<Figure size 432x288 with 1 Axes>"
            ],
            "image/png": "[encoded data removed]"
          },
          "metadata": {
            "needs_background": "light"
          }
        }
      ]
    }
  ]
}